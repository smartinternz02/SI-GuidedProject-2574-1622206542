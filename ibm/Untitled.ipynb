{
 "cells": [
  {
   "cell_type": "code",
   "execution_count": 3,
   "metadata": {},
   "outputs": [
    {
     "name": "stdout",
     "output_type": "stream",
     "text": [
      "Requirement already satisfied: watson-machine-learning-client in c:\\users\\nice\\anaconda3\\lib\\site-packages (1.0.391)\n",
      "Requirement already satisfied: pandas in c:\\users\\nice\\anaconda3\\lib\\site-packages (from watson-machine-learning-client) (1.1.3)\n",
      "Requirement already satisfied: boto3 in c:\\users\\nice\\anaconda3\\lib\\site-packages (from watson-machine-learning-client) (1.17.88)\n",
      "Requirement already satisfied: ibm-cos-sdk in c:\\users\\nice\\anaconda3\\lib\\site-packages (from watson-machine-learning-client) (2.7.0)\n",
      "Requirement already satisfied: requests in c:\\users\\nice\\anaconda3\\lib\\site-packages (from watson-machine-learning-client) (2.24.0)\n",
      "Requirement already satisfied: urllib3 in c:\\users\\nice\\anaconda3\\lib\\site-packages (from watson-machine-learning-client) (1.25.11)\n",
      "Requirement already satisfied: lomond in c:\\users\\nice\\anaconda3\\lib\\site-packages (from watson-machine-learning-client) (0.3.3)\n",
      "Requirement already satisfied: tqdm in c:\\users\\nice\\anaconda3\\lib\\site-packages (from watson-machine-learning-client) (4.50.2)\n",
      "Requirement already satisfied: certifi in c:\\users\\nice\\anaconda3\\lib\\site-packages (from watson-machine-learning-client) (2020.6.20)\n",
      "Requirement already satisfied: tabulate in c:\\users\\nice\\anaconda3\\lib\\site-packages (from watson-machine-learning-client) (0.8.9)\n",
      "Requirement already satisfied: botocore<1.21.0,>=1.20.88 in c:\\users\\nice\\anaconda3\\lib\\site-packages (from boto3->watson-machine-learning-client) (1.20.88)\n",
      "Requirement already satisfied: jmespath<1.0.0,>=0.7.1 in c:\\users\\nice\\anaconda3\\lib\\site-packages (from boto3->watson-machine-learning-client) (0.10.0)\n",
      "Requirement already satisfied: s3transfer<0.5.0,>=0.4.0 in c:\\users\\nice\\anaconda3\\lib\\site-packages (from boto3->watson-machine-learning-client) (0.4.2)\n",
      "Requirement already satisfied: python-dateutil<3.0.0,>=2.1 in c:\\users\\nice\\anaconda3\\lib\\site-packages (from botocore<1.21.0,>=1.20.88->boto3->watson-machine-learning-client) (2.8.1)\n",
      "Requirement already satisfied: six>=1.5 in c:\\users\\nice\\anaconda3\\lib\\site-packages (from python-dateutil<3.0.0,>=2.1->botocore<1.21.0,>=1.20.88->boto3->watson-machine-learning-client) (1.15.0)\n",
      "Requirement already satisfied: ibm-cos-sdk-core==2.7.0 in c:\\users\\nice\\anaconda3\\lib\\site-packages (from ibm-cos-sdk->watson-machine-learning-client) (2.7.0)\n",
      "Requirement already satisfied: ibm-cos-sdk-s3transfer==2.7.0 in c:\\users\\nice\\anaconda3\\lib\\site-packages (from ibm-cos-sdk->watson-machine-learning-client) (2.7.0)\n",
      "Requirement already satisfied: docutils<0.16,>=0.10 in c:\\users\\nice\\anaconda3\\lib\\site-packages (from ibm-cos-sdk-core==2.7.0->ibm-cos-sdk->watson-machine-learning-client) (0.15.2)\n",
      "Requirement already satisfied: chardet<4,>=3.0.2 in c:\\users\\nice\\anaconda3\\lib\\site-packages (from requests->watson-machine-learning-client) (3.0.4)\n",
      "Requirement already satisfied: idna<3,>=2.5 in c:\\users\\nice\\anaconda3\\lib\\site-packages (from requests->watson-machine-learning-client) (2.10)\n",
      "Requirement already satisfied: pytz>=2017.2 in c:\\users\\nice\\anaconda3\\lib\\site-packages (from pandas->watson-machine-learning-client) (2020.1)\n",
      "Requirement already satisfied: numpy>=1.15.4 in c:\\users\\nice\\anaconda3\\lib\\site-packages (from pandas->watson-machine-learning-client) (1.19.2)\n"
     ]
    }
   ],
   "source": [
    "!pip install watson-machine-learning-client --upgrade"
   ]
  },
  {
   "cell_type": "code",
   "execution_count": 11,
   "metadata": {},
   "outputs": [],
   "source": [
    "from ibm_watson_machine_learning import APIClient\n",
    "wml_credentials = {\n",
    "    \"url\" :\"https://us-south.ml.cloud.ibm.com\",\n",
    "    \"apikey\" : \"EfcG_C70D0sBnx1T6iq6c1huhnepI68ptpk-EUh53mD9\"\n",
    "}\n",
    "\n",
    "client = APIClient(wml_credentials)"
   ]
  },
  {
   "cell_type": "code",
   "execution_count": 12,
   "metadata": {},
   "outputs": [],
   "source": [
    "client = APIClient(wml_credentials)"
   ]
  },
  {
   "cell_type": "code",
   "execution_count": 13,
   "metadata": {},
   "outputs": [],
   "source": [
    "def guid_from_space_name(client, space_name):\n",
    "    space = client.spaces.get_details()\n",
    "    return(next(item for item in space['resources'] if item['entity']['name'] == space_name)['metadata']['id'])"
   ]
  },
  {
   "cell_type": "code",
   "execution_count": 14,
   "metadata": {},
   "outputs": [
    {
     "name": "stdout",
     "output_type": "stream",
     "text": [
      "Space UID=849e5cfd-d5c2-4878-8704-1dc8811ea1e3\n"
     ]
    }
   ],
   "source": [
    "space_uid=guid_from_space_name(client,'shape classification')\n",
    "print(\"Space UID=\"+space_uid)\n"
   ]
  },
  {
   "cell_type": "code",
   "execution_count": 15,
   "metadata": {},
   "outputs": [
    {
     "data": {
      "text/plain": [
       "'SUCCESS'"
      ]
     },
     "execution_count": 15,
     "metadata": {},
     "output_type": "execute_result"
    }
   ],
   "source": [
    "client.set.default_space(space_uid)"
   ]
  },
  {
   "cell_type": "code",
   "execution_count": 17,
   "metadata": {},
   "outputs": [
    {
     "name": "stdout",
     "output_type": "stream",
     "text": [
      "Successfully saved model content to file: 'shape.tar.gz'\n"
     ]
    },
    {
     "data": {
      "text/plain": [
       "'D:\\\\ibm/shape.tar.gz'"
      ]
     },
     "execution_count": 17,
     "metadata": {},
     "output_type": "execute_result"
    }
   ],
   "source": [
    "client.repository.download(\"b9375bbb-b7db-46bd-8565-c127239d4dd4\",'shape.tar.gz')"
   ]
  },
  {
   "cell_type": "code",
   "execution_count": null,
   "metadata": {},
   "outputs": [],
   "source": []
  }
 ],
 "metadata": {
  "kernelspec": {
   "display_name": "Python 3",
   "language": "python",
   "name": "python3"
  },
  "language_info": {
   "codemirror_mode": {
    "name": "ipython",
    "version": 3
   },
   "file_extension": ".py",
   "mimetype": "text/x-python",
   "name": "python",
   "nbconvert_exporter": "python",
   "pygments_lexer": "ipython3",
   "version": "3.8.5"
  }
 },
 "nbformat": 4,
 "nbformat_minor": 4
}
